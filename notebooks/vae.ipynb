{
 "cells": [
  {
   "cell_type": "code",
   "execution_count": 1,
   "id": "f2054cdc-22b4-4896-ba7a-ee444fbbfd23",
   "metadata": {},
   "outputs": [
    {
     "name": "stdout",
     "output_type": "stream",
     "text": [
      "/home/eli/AnacondaProjects/numpyro_template\n"
     ]
    }
   ],
   "source": [
    "%cd .."
   ]
  },
  {
   "cell_type": "code",
   "execution_count": 2,
   "id": "2147a806-9a28-474a-92fb-deb0e4640f0e",
   "metadata": {},
   "outputs": [],
   "source": [
    "import hydra\n",
    "import math\n",
    "import matplotlib.pyplot as plt\n",
    "import jax\n",
    "import numpy as np\n",
    "import numpyro\n",
    "from omegaconf import OmegaConf\n",
    "import rootutils\n",
    "import sys"
   ]
  },
  {
   "cell_type": "code",
   "execution_count": 3,
   "id": "7a744c19-0c81-43ce-9a16-e410d001a522",
   "metadata": {},
   "outputs": [],
   "source": [
    "from src import test"
   ]
  },
  {
   "cell_type": "code",
   "execution_count": 4,
   "id": "44f5ab33-ce82-4bf0-8f95-ee911e156f0d",
   "metadata": {},
   "outputs": [],
   "source": [
    "with hydra.initialize(version_base=\"1.3\", config_path=\"../configs\", job_name=\"eval\"):\n",
    "    cfg = hydra.compose(config_name=\"eval.yaml\", overrides=[\"ckpt_path=logs/train/runs/2025-06-13_15-44-31/saved/checkpoint-epoch100.npy\", \"hydra.runtime.output_dir=logs/test\"], return_hydra_config=True)\n",
    "    hydra.core.hydra_config.HydraConfig.instance().set_config(cfg)\n",
    "    metrics, objects = test.test(cfg)"
   ]
  },
  {
   "cell_type": "code",
   "execution_count": 5,
   "id": "3a857134-4e60-42d6-9d73-84348ee4ee33",
   "metadata": {},
   "outputs": [],
   "source": [
    "for data, target in objects['datamodule'].test_dataloader():\n",
    "    objects['monad'](data)\n",
    "    break"
   ]
  },
  {
   "cell_type": "code",
   "execution_count": null,
   "id": "95c54aeb-63a8-4996-9ede-9c49a07fd85f",
   "metadata": {},
   "outputs": [],
   "source": []
  }
 ],
 "metadata": {
  "kernelspec": {
   "display_name": "Python [conda env:numpyro] *",
   "language": "python",
   "name": "conda-env-numpyro-py"
  },
  "language_info": {
   "codemirror_mode": {
    "name": "ipython",
    "version": 3
   },
   "file_extension": ".py",
   "mimetype": "text/x-python",
   "name": "python",
   "nbconvert_exporter": "python",
   "pygments_lexer": "ipython3",
   "version": "3.11.8"
  }
 },
 "nbformat": 4,
 "nbformat_minor": 5
}
